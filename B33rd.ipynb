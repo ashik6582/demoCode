{
 "cells": [
  {
   "cell_type": "markdown",
   "id": "24cb5874-e4ee-4ff7-84b7-ae8c3fa8ccf5",
   "metadata": {},
   "source": [
    "Var, Data, data type, Input and output"
   ]
  },
  {
   "cell_type": "code",
   "execution_count": 7,
   "id": "99d2c562-0ec2-49e2-a2f0-56d8d38d5865",
   "metadata": {},
   "outputs": [],
   "source": [
    "name = \"Inception BD\"\n",
    "Name = \"Ridoy\""
   ]
  },
  {
   "cell_type": "code",
   "execution_count": 2,
   "id": "9469e9f6-97b3-446d-b5ac-8bce34fec628",
   "metadata": {},
   "outputs": [
    {
     "name": "stdout",
     "output_type": "stream",
     "text": [
      "Inception BD\n"
     ]
    }
   ],
   "source": [
    "print(name)"
   ]
  },
  {
   "cell_type": "code",
   "execution_count": 6,
   "id": "1a56b129-cccc-4553-a68b-7469f27d8ea5",
   "metadata": {},
   "outputs": [
    {
     "name": "stdout",
     "output_type": "stream",
     "text": [
      "Inception BD\n"
     ]
    }
   ],
   "source": [
    "print(name)"
   ]
  },
  {
   "cell_type": "code",
   "execution_count": 9,
   "id": "b271dced-73ad-43b0-ab4a-1bfd5d9bc6ea",
   "metadata": {},
   "outputs": [
    {
     "name": "stdout",
     "output_type": "stream",
     "text": [
      "Inception BD\n"
     ]
    }
   ],
   "source": [
    "print(name)"
   ]
  },
  {
   "cell_type": "code",
   "execution_count": 25,
   "id": "914aa9b2-cf6a-43bb-aeb2-532fed63aa5b",
   "metadata": {},
   "outputs": [],
   "source": [
    "name  = \"Inception BD       \""
   ]
  },
  {
   "cell_type": "code",
   "execution_count": 21,
   "id": "cec299ff-f430-4cc6-9ad7-1234c7b6f8f1",
   "metadata": {},
   "outputs": [
    {
     "data": {
      "text/plain": [
       "'p'"
      ]
     },
     "execution_count": 21,
     "metadata": {},
     "output_type": "execute_result"
    }
   ],
   "source": [
    "name[-8]"
   ]
  },
  {
   "cell_type": "code",
   "execution_count": 22,
   "id": "2ed8a61a-9068-437e-88e7-f925642801f2",
   "metadata": {},
   "outputs": [
    {
     "data": {
      "text/plain": [
       "'p'"
      ]
     },
     "execution_count": 22,
     "metadata": {},
     "output_type": "execute_result"
    }
   ],
   "source": [
    "name[4]"
   ]
  },
  {
   "cell_type": "code",
   "execution_count": 17,
   "id": "5b264f1f-c4b1-4957-b841-0c6bf0abcb45",
   "metadata": {},
   "outputs": [
    {
     "data": {
      "text/plain": [
       "'D'"
      ]
     },
     "execution_count": 17,
     "metadata": {},
     "output_type": "execute_result"
    }
   ],
   "source": [
    "name[-1]"
   ]
  },
  {
   "cell_type": "code",
   "execution_count": 26,
   "id": "7eb34996-a385-4b46-a426-88334f31b00a",
   "metadata": {},
   "outputs": [
    {
     "data": {
      "text/plain": [
       "' '"
      ]
     },
     "execution_count": 26,
     "metadata": {},
     "output_type": "execute_result"
    }
   ],
   "source": [
    "name[18]"
   ]
  },
  {
   "cell_type": "code",
   "execution_count": 36,
   "id": "f8767515-ef42-4814-8374-57c554d22412",
   "metadata": {},
   "outputs": [],
   "source": [
    "name = \"Inception          😁😁😁😁      Bd\""
   ]
  },
  {
   "cell_type": "code",
   "execution_count": 37,
   "id": "db66b35e-dd8c-4e31-b392-aecd5083fbc3",
   "metadata": {},
   "outputs": [
    {
     "data": {
      "text/plain": [
       "31"
      ]
     },
     "execution_count": 37,
     "metadata": {},
     "output_type": "execute_result"
    }
   ],
   "source": [
    "len(name)"
   ]
  },
  {
   "cell_type": "code",
   "execution_count": 32,
   "id": "7538d257-70d1-417f-beda-e2c088e393c4",
   "metadata": {},
   "outputs": [
    {
     "name": "stdout",
     "output_type": "stream",
     "text": [
      "Inception                Bd\n"
     ]
    }
   ],
   "source": [
    "print(name)"
   ]
  },
  {
   "cell_type": "code",
   "execution_count": 35,
   "id": "12527082-d2e4-4636-9344-e49e9a5aa7a1",
   "metadata": {},
   "outputs": [
    {
     "data": {
      "text/plain": [
       "'d'"
      ]
     },
     "execution_count": 35,
     "metadata": {},
     "output_type": "execute_result"
    }
   ],
   "source": [
    "name[26]"
   ]
  },
  {
   "cell_type": "code",
   "execution_count": 46,
   "id": "51064fd9-d85a-4ca0-977a-8865439b1621",
   "metadata": {},
   "outputs": [],
   "source": [
    "name = \"Inception BD jshafgkjhsakfhka\""
   ]
  },
  {
   "cell_type": "code",
   "execution_count": 61,
   "id": "8e9ac494-728e-47e4-adda-4404c152161e",
   "metadata": {},
   "outputs": [
    {
     "data": {
      "text/plain": [
       "'Iei '"
      ]
     },
     "execution_count": 61,
     "metadata": {},
     "output_type": "execute_result"
    }
   ],
   "source": [
    "name[0 : 12 : 3]"
   ]
  },
  {
   "cell_type": "markdown",
   "id": "e0a03f4c-60e1-4cd1-962d-fed42b1661e1",
   "metadata": {},
   "source": [
    "[start : stop : step]"
   ]
  },
  {
   "cell_type": "code",
   "execution_count": 62,
   "id": "15e77580-bd7f-45fc-8cad-3225283f0580",
   "metadata": {},
   "outputs": [],
   "source": [
    "name = \"Inception BD\""
   ]
  },
  {
   "cell_type": "code",
   "execution_count": 66,
   "id": "890879dd-f73a-48e8-aba2-b40e17dd3bd5",
   "metadata": {},
   "outputs": [
    {
     "data": {
      "text/plain": [
       "'ption BD'"
      ]
     },
     "execution_count": 66,
     "metadata": {},
     "output_type": "execute_result"
    }
   ],
   "source": [
    "name[4 : 12]"
   ]
  },
  {
   "cell_type": "code",
   "execution_count": 71,
   "id": "685c586d-d4c4-40dc-ab78-7bfc3d81fd5f",
   "metadata": {},
   "outputs": [
    {
     "data": {
      "text/plain": [
       "'DB noitp'"
      ]
     },
     "execution_count": 71,
     "metadata": {},
     "output_type": "execute_result"
    }
   ],
   "source": [
    "name[-1 : -9 : -1 ]"
   ]
  },
  {
   "cell_type": "code",
   "execution_count": 84,
   "id": "abc12c16-9ab7-48ba-aa6b-2120e00268e1",
   "metadata": {},
   "outputs": [],
   "source": [
    "name = \"Ridoy    kgjklaklgjlak\""
   ]
  },
  {
   "cell_type": "code",
   "execution_count": 73,
   "id": "e1a992c7-d7c1-4c01-bcf1-b3e33d55c7c5",
   "metadata": {},
   "outputs": [
    {
     "data": {
      "text/plain": [
       "'yodiR'"
      ]
     },
     "execution_count": 73,
     "metadata": {},
     "output_type": "execute_result"
    }
   ],
   "source": [
    "\"yodiR\""
   ]
  },
  {
   "cell_type": "code",
   "execution_count": 86,
   "id": "fafb6840-c676-49bc-bd84-80b5c75cbe89",
   "metadata": {},
   "outputs": [
    {
     "data": {
      "text/plain": [
       "'kaljg'"
      ]
     },
     "execution_count": 86,
     "metadata": {},
     "output_type": "execute_result"
    }
   ],
   "source": [
    "name[-1:-6:-1]"
   ]
  },
  {
   "cell_type": "code",
   "execution_count": 79,
   "id": "a43252fe-0efe-4001-a78b-80af6abc81d2",
   "metadata": {},
   "outputs": [
    {
     "data": {
      "text/plain": [
       "'Rid'"
      ]
     },
     "execution_count": 79,
     "metadata": {},
     "output_type": "execute_result"
    }
   ],
   "source": [
    "name[0:3]"
   ]
  },
  {
   "cell_type": "code",
   "execution_count": 85,
   "id": "726f6a61-2ae0-4f08-ade2-486bd2bd13f6",
   "metadata": {},
   "outputs": [
    {
     "data": {
      "text/plain": [
       "'kaljglkalkjgk    yodiR'"
      ]
     },
     "execution_count": 85,
     "metadata": {},
     "output_type": "execute_result"
    }
   ],
   "source": [
    "name[-1::-1 ]"
   ]
  },
  {
   "cell_type": "code",
   "execution_count": 83,
   "id": "47da9325-54cd-4d6d-be49-9d77853cddf2",
   "metadata": {},
   "outputs": [
    {
     "data": {
      "text/plain": [
       "'Ridoy'"
      ]
     },
     "execution_count": 83,
     "metadata": {},
     "output_type": "execute_result"
    }
   ],
   "source": [
    "name[0::1]"
   ]
  },
  {
   "cell_type": "code",
   "execution_count": 95,
   "id": "5fdfdf8b-a921-4aad-986c-2983d08245a7",
   "metadata": {},
   "outputs": [],
   "source": [
    "name = \"😁😁😁 dsgdfsgdfgh akhjfgka ahgk5\""
   ]
  },
  {
   "cell_type": "code",
   "execution_count": 96,
   "id": "23c4ea48-d4a2-4dc8-b3af-4d7d959003c9",
   "metadata": {},
   "outputs": [
    {
     "data": {
      "text/plain": [
       "'5kgha akgfjhka hgfdgsfdgsd 😁😁😁'"
      ]
     },
     "execution_count": 96,
     "metadata": {},
     "output_type": "execute_result"
    }
   ],
   "source": [
    "name[-1 :: -1]"
   ]
  },
  {
   "cell_type": "code",
   "execution_count": 104,
   "id": "8e48e964-3037-4ee7-a7c2-d40d6173775d",
   "metadata": {},
   "outputs": [],
   "source": [
    "name = \"We t W are learning python from Inception BD\""
   ]
  },
  {
   "cell_type": "code",
   "execution_count": 105,
   "id": "90d392f6-84a5-42b7-a57e-58150235ebe1",
   "metadata": {},
   "outputs": [
    {
     "data": {
      "text/plain": [
       "3"
      ]
     },
     "execution_count": 105,
     "metadata": {},
     "output_type": "execute_result"
    }
   ],
   "source": [
    "name.index(\"t\")"
   ]
  },
  {
   "cell_type": "code",
   "execution_count": 99,
   "id": "50fc6c6c-ac67-400d-a605-7912c82b3931",
   "metadata": {},
   "outputs": [
    {
     "data": {
      "text/plain": [
       "'t'"
      ]
     },
     "execution_count": 99,
     "metadata": {},
     "output_type": "execute_result"
    }
   ],
   "source": [
    "name[18]"
   ]
  },
  {
   "cell_type": "code",
   "execution_count": 111,
   "id": "f46e01c8-2a1d-42b8-8d1f-6f8250b5e379",
   "metadata": {},
   "outputs": [
    {
     "name": "stdin",
     "output_type": "stream",
     "text": [
      "Please enter your name:  ridoy\n"
     ]
    },
    {
     "name": "stdout",
     "output_type": "stream",
     "text": [
      "yodir\n"
     ]
    }
   ],
   "source": [
    "user = input(\"Please enter your name: \")\n",
    "print(user[-1::-1])"
   ]
  },
  {
   "cell_type": "code",
   "execution_count": 107,
   "id": "b1c2765f-953e-4b7b-bc63-a65edf26e81f",
   "metadata": {},
   "outputs": [
    {
     "name": "stdin",
     "output_type": "stream",
     "text": [
      "please input your name  ridoy\n"
     ]
    },
    {
     "data": {
      "text/plain": [
       "'yodir'"
      ]
     },
     "execution_count": 107,
     "metadata": {},
     "output_type": "execute_result"
    }
   ],
   "source": [
    "name = input(\"please input your name \")\n",
    "name [-1::-1]"
   ]
  },
  {
   "cell_type": "code",
   "execution_count": 113,
   "id": "89940c02-9f39-4f2d-a19b-20d1242fd789",
   "metadata": {},
   "outputs": [
    {
     "name": "stdin",
     "output_type": "stream",
     "text": [
      " enter your name:  ridoy\n"
     ]
    },
    {
     "name": "stdout",
     "output_type": "stream",
     "text": [
      "yodir\n"
     ]
    }
   ],
   "source": [
    "Name = input(\" enter your name: \")\n",
    "print(Name[-1: :  -1])"
   ]
  },
  {
   "cell_type": "code",
   "execution_count": 112,
   "id": "519c57c1-a6d0-4cc9-bee3-a041444256c0",
   "metadata": {},
   "outputs": [
    {
     "data": {
      "text/plain": [
       "'ridoy'"
      ]
     },
     "execution_count": 112,
     "metadata": {},
     "output_type": "execute_result"
    }
   ],
   "source": [
    "\"ridoy\""
   ]
  },
  {
   "cell_type": "code",
   "execution_count": null,
   "id": "b961d3ae-89bc-4fd8-8fd5-99780b7eb93f",
   "metadata": {},
   "outputs": [],
   "source": []
  }
 ],
 "metadata": {
  "kernelspec": {
   "display_name": "Python 3 (ipykernel)",
   "language": "python",
   "name": "python3"
  },
  "language_info": {
   "codemirror_mode": {
    "name": "ipython",
    "version": 3
   },
   "file_extension": ".py",
   "mimetype": "text/x-python",
   "name": "python",
   "nbconvert_exporter": "python",
   "pygments_lexer": "ipython3",
   "version": "3.11.7"
  }
 },
 "nbformat": 4,
 "nbformat_minor": 5
}
