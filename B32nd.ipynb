{
 "cells": [
  {
   "cell_type": "code",
   "execution_count": 4,
   "id": "8b59d49a-3d0e-4db8-a53f-dff24f6106d2",
   "metadata": {},
   "outputs": [
    {
     "name": "stdout",
     "output_type": "stream",
     "text": [
      "\n"
     ]
    }
   ],
   "source": [
    "print()"
   ]
  },
  {
   "cell_type": "code",
   "execution_count": 22,
   "id": "86d81511-2a53-478e-baaa-4574f807d5ce",
   "metadata": {},
   "outputs": [
    {
     "name": "stdout",
     "output_type": "stream",
     "text": [
      "520 750\n"
     ]
    }
   ],
   "source": [
    "num1 = 520\n",
    "num2 = 750\n",
    "\n",
    "print(num1,num2)"
   ]
  },
  {
   "cell_type": "code",
   "execution_count": 24,
   "id": "b79520ad-a265-4867-b221-09331597bcfd",
   "metadata": {},
   "outputs": [
    {
     "name": "stdout",
     "output_type": "stream",
     "text": [
      "Inception_BD 50 Ridoy\n"
     ]
    }
   ],
   "source": [
    "print(\"Inception_BD\",50,\"Ridoy\")"
   ]
  },
  {
   "cell_type": "code",
   "execution_count": 32,
   "id": "7a000567-ba87-4643-b3c0-e80f72121d04",
   "metadata": {},
   "outputs": [
    {
     "name": "stdout",
     "output_type": "stream",
     "text": [
      "Welcome to 🥱Inception BD👉Python\n"
     ]
    }
   ],
   "source": [
    "print(\"Welcome to \", end=\"🥱\")\n",
    "print(\"Inception BD\", end= \"👉\")\n",
    "print(\"Python\")"
   ]
  },
  {
   "cell_type": "code",
   "execution_count": 27,
   "id": "4a4484ae-18b7-42b9-8f91-f5a143e4ea0d",
   "metadata": {},
   "outputs": [
    {
     "name": "stdout",
     "output_type": "stream",
     "text": [
      "Welcom to \n",
      "Inception BD\n"
     ]
    }
   ],
   "source": [
    "print(\"Welcom to \\nInception BD\")"
   ]
  },
  {
   "cell_type": "code",
   "execution_count": 50,
   "id": "d63b7022-4172-4fc3-aa4e-d45d7717d26d",
   "metadata": {},
   "outputs": [
    {
     "name": "stdout",
     "output_type": "stream",
     "text": [
      "100 + 100 + 100 = 300\n",
      "first numer = 100 2nd number = 100 3rd number = 100 = 300 \n",
      "made by Inception BD\n"
     ]
    }
   ],
   "source": [
    "num1 = 100\n",
    "num2 = 100\n",
    "num3 = 100\n",
    "\n",
    "result = num1 + num2 + num3\n",
    "\n",
    "print(num1,\"+\", num2, \"+\", num3, \"=\", result)\n",
    "print(f\"first numer = {num1} 2nd number = {num2} 3rd number = {num3} = {result} \\nmade by Inception BD\")\n",
    "\n"
   ]
  },
  {
   "cell_type": "code",
   "execution_count": 51,
   "id": "b6aa4b13-b97a-49ac-9262-005eb727f0bf",
   "metadata": {},
   "outputs": [],
   "source": [
    "name = \"Ridoy\""
   ]
  },
  {
   "cell_type": "code",
   "execution_count": 52,
   "id": "a6b28cb1-4918-4d8c-aa15-fef0da947a3d",
   "metadata": {},
   "outputs": [
    {
     "name": "stdout",
     "output_type": "stream",
     "text": [
      "Ridoy\n"
     ]
    }
   ],
   "source": [
    "print(name)"
   ]
  },
  {
   "cell_type": "code",
   "execution_count": 55,
   "id": "5580f033-ee8d-476e-8764-b5f8ee6f852b",
   "metadata": {},
   "outputs": [
    {
     "name": "stdin",
     "output_type": "stream",
     "text": [
      " Hossain\n"
     ]
    }
   ],
   "source": [
    "name = input()"
   ]
  },
  {
   "cell_type": "code",
   "execution_count": 56,
   "id": "39e32e5d-f484-4da5-9cb8-7c057369e43b",
   "metadata": {},
   "outputs": [
    {
     "name": "stdout",
     "output_type": "stream",
     "text": [
      "Hossain\n"
     ]
    }
   ],
   "source": [
    "print(name)"
   ]
  },
  {
   "cell_type": "code",
   "execution_count": 59,
   "id": "bf8377b1-fc8b-4f36-a187-b3c760b8fdb5",
   "metadata": {},
   "outputs": [
    {
     "name": "stdin",
     "output_type": "stream",
     "text": [
      " khan\n"
     ]
    }
   ],
   "source": [
    "first_name = \"Ridoy\"\n",
    "last_name = input()"
   ]
  },
  {
   "cell_type": "code",
   "execution_count": 60,
   "id": "6ede89df-c0f6-425e-9ec6-dbab995d762f",
   "metadata": {},
   "outputs": [
    {
     "name": "stdout",
     "output_type": "stream",
     "text": [
      "Ridoy khan\n"
     ]
    }
   ],
   "source": [
    "print(first_name, last_name)"
   ]
  },
  {
   "cell_type": "code",
   "execution_count": 62,
   "id": "a3e906b1-b682-4e89-9669-7bf9ad6e8d35",
   "metadata": {},
   "outputs": [
    {
     "name": "stdout",
     "output_type": "stream",
     "text": [
      "Please enter your gmail: \n"
     ]
    },
    {
     "name": "stdin",
     "output_type": "stream",
     "text": [
      " entridoy2@gmail.com\n"
     ]
    },
    {
     "name": "stdout",
     "output_type": "stream",
     "text": [
      "Please enter your password: \n"
     ]
    },
    {
     "name": "stdin",
     "output_type": "stream",
     "text": [
      " 456256256\n"
     ]
    }
   ],
   "source": [
    "print(\"Please enter your gmail: \")\n",
    "gmail = input()\n",
    "print(\"Please enter your password: \")\n",
    "password = input()"
   ]
  },
  {
   "cell_type": "code",
   "execution_count": 63,
   "id": "7177f33c-10b0-4d04-8899-18c51c7b731f",
   "metadata": {},
   "outputs": [
    {
     "name": "stdin",
     "output_type": "stream",
     "text": [
      "Please enter your Gmail:-  hfjkashfkj@gmail.com\n"
     ]
    }
   ],
   "source": [
    "gmail = input(\"Please enter your Gmail:- \")"
   ]
  },
  {
   "cell_type": "code",
   "execution_count": 95,
   "id": "34b78f2e-aad2-4fe1-be6a-df58d2f18125",
   "metadata": {},
   "outputs": [
    {
     "name": "stdin",
     "output_type": "stream",
     "text": [
      "please enter your 1st number:  80\n",
      "Please enter your 2nd number:  506\n"
     ]
    },
    {
     "name": "stdout",
     "output_type": "stream",
     "text": [
      "your 1st number = 80 and your 2nd number = 506 and sum = 586\n"
     ]
    }
   ],
   "source": [
    "# user input for 1st number\n",
    "num1 = int(input(\"please enter your 1st number: \"))\n",
    "\n",
    "# user input for 2nd number\n",
    "num2 = int(input(\"Please enter your 2nd number: \"))\n",
    "\n",
    "# print for \n",
    "print(f\"your 1st number = {num1} and your 2nd number = {num2} and sum = {num1 + num2}\")\n",
    "\n"
   ]
  },
  {
   "cell_type": "code",
   "execution_count": 66,
   "id": "0c0a0348-00a6-4be6-bb07-58690f1c9b5e",
   "metadata": {},
   "outputs": [
    {
     "name": "stdout",
     "output_type": "stream",
     "text": [
      "4050\n"
     ]
    }
   ],
   "source": [
    "num1 = \"40\"\n",
    "num2 = \"50\"\n",
    "\n",
    "result = num1 + num2\n",
    "\n",
    "print(result)\n",
    "\n"
   ]
  },
  {
   "cell_type": "code",
   "execution_count": 67,
   "id": "17abe27c-bbb0-4f25-8c97-2cd44bda39c2",
   "metadata": {},
   "outputs": [
    {
     "name": "stdout",
     "output_type": "stream",
     "text": [
      "RidoyHossain\n"
     ]
    }
   ],
   "source": [
    "a = \"Ridoy\"\n",
    "b = \"Hossain\"\n",
    "\n",
    "result = a+b\n",
    "\n",
    "print(result)"
   ]
  },
  {
   "cell_type": "code",
   "execution_count": 68,
   "id": "7466b4c2-946f-40e3-ad47-7c4974bb4680",
   "metadata": {},
   "outputs": [
    {
     "data": {
      "text/plain": [
       "str"
      ]
     },
     "execution_count": 68,
     "metadata": {},
     "output_type": "execute_result"
    }
   ],
   "source": [
    "type(num1)"
   ]
  },
  {
   "cell_type": "code",
   "execution_count": 74,
   "id": "f93f0d97-4911-4287-b6e8-1190c5d2cb3d",
   "metadata": {},
   "outputs": [
    {
     "name": "stdin",
     "output_type": "stream",
     "text": [
      "Please enter a number:  ❤️\n"
     ]
    },
    {
     "name": "stdout",
     "output_type": "stream",
     "text": [
      "<class 'str'>\n"
     ]
    }
   ],
   "source": [
    "a = input(\"Please enter a number: \")\n",
    "print(type(a))"
   ]
  },
  {
   "cell_type": "code",
   "execution_count": 82,
   "id": "4543b195-3a20-4437-93e0-3c034bb2ca79",
   "metadata": {},
   "outputs": [],
   "source": [
    "a = \"50\"\n",
    "a = float(a)"
   ]
  },
  {
   "cell_type": "code",
   "execution_count": 83,
   "id": "05c4d082-d5d5-47d0-a4f0-70340cb8bb6a",
   "metadata": {},
   "outputs": [
    {
     "data": {
      "text/plain": [
       "float"
      ]
     },
     "execution_count": 83,
     "metadata": {},
     "output_type": "execute_result"
    }
   ],
   "source": [
    "type(a)"
   ]
  },
  {
   "cell_type": "code",
   "execution_count": 84,
   "id": "ac97ef6d-874c-4315-927f-1fcdea8e2e50",
   "metadata": {},
   "outputs": [
    {
     "name": "stdout",
     "output_type": "stream",
     "text": [
      "50.0\n"
     ]
    }
   ],
   "source": [
    "print(a)"
   ]
  },
  {
   "cell_type": "code",
   "execution_count": 87,
   "id": "d9e47201-80af-45b5-9340-009e9f3290aa",
   "metadata": {},
   "outputs": [],
   "source": [
    "a = 50\n",
    "a = str(a)\n"
   ]
  },
  {
   "cell_type": "code",
   "execution_count": 88,
   "id": "87adc626-8d05-42e2-b20c-abcefbf476f7",
   "metadata": {},
   "outputs": [
    {
     "data": {
      "text/plain": [
       "str"
      ]
     },
     "execution_count": 88,
     "metadata": {},
     "output_type": "execute_result"
    }
   ],
   "source": [
    "type(a)"
   ]
  },
  {
   "cell_type": "code",
   "execution_count": null,
   "id": "839b86f7-b87c-45ac-ab11-e653ef62befd",
   "metadata": {},
   "outputs": [],
   "source": [
    "data, variable, input, print, type casting, (ID,Type, comment)"
   ]
  }
 ],
 "metadata": {
  "kernelspec": {
   "display_name": "Python 3 (ipykernel)",
   "language": "python",
   "name": "python3"
  },
  "language_info": {
   "codemirror_mode": {
    "name": "ipython",
    "version": 3
   },
   "file_extension": ".py",
   "mimetype": "text/x-python",
   "name": "python",
   "nbconvert_exporter": "python",
   "pygments_lexer": "ipython3",
   "version": "3.11.7"
  }
 },
 "nbformat": 4,
 "nbformat_minor": 5
}
